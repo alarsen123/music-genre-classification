{
 "cells": [
  {
   "cell_type": "code",
   "execution_count": 1,
   "metadata": {},
   "outputs": [],
   "source": [
    "import numpy as np\n",
    "from matplotlib import pyplot as plt\n",
    "from scipy.io.wavfile import read, write\n",
    "from IPython.display import Audio\n",
    "from numpy.fft import fft, ifft\n",
    "from os import listdir\n",
    "from os.path import isfile, join\n",
    "import librosa\n",
    "%matplotlib inline\n"
   ]
  },
  {
   "cell_type": "code",
   "execution_count": 2,
   "metadata": {},
   "outputs": [],
   "source": [
    "genre_folder = Path('./genres')\n",
    "genre_names = [f for f in listdir(\n",
    "    path=genre_folder) if not isfile(join(genre_folder, f))]\n"
   ]
  },
  {
   "cell_type": "code",
   "execution_count": null,
   "metadata": {},
   "outputs": [],
   "source": [
    "song_list = []\n",
    "for genre in genre_names:\n",
    "    p = genre_folder + '/' + g  # path for a genre folder\n",
    "    for song in listdir(path=p):\n",
    "        song_path = p\n",
    "        song_list.append()\n"
   ]
  }
 ],
 "metadata": {
  "interpreter": {
   "hash": "4471b9651200f143f2610a150acdb66fa3a20288230649061a23803899bad073"
  },
  "kernelspec": {
   "display_name": "Python 3.8.5 ('base')",
   "language": "python",
   "name": "python3"
  },
  "language_info": {
   "codemirror_mode": {
    "name": "ipython",
    "version": 3
   },
   "file_extension": ".py",
   "mimetype": "text/x-python",
   "name": "python",
   "nbconvert_exporter": "python",
   "pygments_lexer": "ipython3",
   "version": "3.8.5"
  },
  "orig_nbformat": 4
 },
 "nbformat": 4,
 "nbformat_minor": 2
}
