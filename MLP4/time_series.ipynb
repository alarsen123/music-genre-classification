{
 "cells": [
  {
   "cell_type": "code",
   "execution_count": 1,
   "metadata": {},
   "outputs": [
    {
     "name": "stdout",
     "output_type": "stream",
     "text": [
      "INFO: Pandarallel will run on 6 workers.\n",
      "INFO: Pandarallel will use standard multiprocessing data transfer (pipe) to transfer data between the main process and workers.\n"
     ]
    }
   ],
   "source": [
    "import warnings\n",
    "from sklearn.preprocessing import normalize\n",
    "import librosa.display\n",
    "import librosa\n",
    "from sklearn.model_selection import train_test_split\n",
    "from tensorflow.keras import models, layers\n",
    "import tensorflow as tf\n",
    "import matplotlib as mpl\n",
    "import matplotlib.pyplot as plt\n",
    "import numpy as np\n",
    "import os\n",
    "import pandas as pd\n",
    "from pathlib import Path\n",
    "# import pydotplus\n",
    "import seaborn as sns\n",
    "import sklearn\n",
    "import sys\n",
    "\n",
    "# from graphviz import Source\n",
    "from pandarallel import pandarallel\n",
    "from sklearn.model_selection import train_test_split #, GridSearchCV, learning_curve\n",
    "# from sklearn.metrics import classification_report, plot_confusion_matrix, mean_squared_error\n",
    "# from sklearn.tree import DecisionTreeClassifier, export_graphviz\n",
    "# from sklearn.neighbors import KNeighborsClassifier\n",
    "# from sklearn.pipeline import Pipeline\n",
    "# from sklearn.preprocessing import StandardScaler, MinMaxScaler\n",
    "# from sklearn.neural_network import MLPClassifier\n",
    "\n",
    "from os import listdir, path\n",
    "from os.path import isfile, join\n",
    "\n",
    "# Python ≥3.5 is required\n",
    "assert sys.version_info >= (3, 5)\n",
    "\n",
    "# Scikit-Learn ≥0.20 is required\n",
    "assert sklearn.__version__ >= \"0.20\"\n",
    "\n",
    "# To plot pretty figures\n",
    "%matplotlib inline\n",
    "mpl.rc('axes', labelsize=14)\n",
    "mpl.rc('xtick', labelsize=12)\n",
    "mpl.rc('ytick', labelsize=12)\n",
    "plt.style.use('fivethirtyeight')\n",
    "\n",
    "# to make this notebook's output stable across runs\n",
    "np.random.seed(42)\n",
    "\n",
    "# import joblib\n",
    "# import pickle\n",
    "warnings.filterwarnings('ignore')\n",
    "\n",
    "RESULTS_PATH = os.path.join('./results')\n",
    "\n",
    "# os.environ['LIBROSA_CACHE_DIR'] = '/tmp/librosa_cache'\n",
    "import librosa\n",
    "\n",
    "%matplotlib inline\n",
    "pandarallel.initialize(progress_bar=True)"
   ]
  },
  {
   "cell_type": "code",
   "execution_count": 2,
   "metadata": {},
   "outputs": [],
   "source": [
    "genre_folder = '../MLP2/rawdata/genres'\n",
    "genre_names = [f for f in listdir(\n",
    "    path=genre_folder) if not isfile(join(genre_folder, f))]\n",
    "\n",
    "SAMPLE_RATE = 45600\n",
    "\n",
    "time_series_data, labels = [], []\n",
    "i = 0\n",
    "\n",
    "song_paths = []\n",
    "maxlen = 0\n",
    "for g in genre_names:\n",
    "    p = genre_folder + '/' + g  # path for a genre folder\n",
    "    for song in sorted(listdir(path=p)):  # song at index 0 for each folder\n",
    "        song_paths.append(p + '/' + song)\n",
    "        time_series, sample_rate = librosa.load(\n",
    "            Path(song_paths[-1], duration=60, sr=SAMPLE_RATE))\n",
    "        t = np.array(time_series)\n",
    "        maxlen = len(t) if len(t) > maxlen else maxlen\n",
    "        time_series_data.append(t)\n",
    "        labels.append(g)\n",
    "        i += 0"
   ]
  },
  {
   "cell_type": "code",
   "execution_count": 3,
   "metadata": {},
   "outputs": [],
   "source": [
    "# for i in range(len(time_series_data)):\n",
    "#     tmp = np.zeros(shape=(maxlen,))\n",
    "#     l = len(time_series_data[i])\n",
    "#     tmp[0:l] = np.array(time_series_data[i])\n",
    "#     tmp = time_series_data[i].reshape(maxlen,)\n",
    "#     time_series_data[i] = tmp  "
   ]
  },
  {
   "cell_type": "code",
   "execution_count": 4,
   "metadata": {},
   "outputs": [],
   "source": [
    "# [len(time_series_data[i]) for i in range(15)]\n"
   ]
  },
  {
   "cell_type": "code",
   "execution_count": 5,
   "metadata": {},
   "outputs": [],
   "source": [
    "# song_df.time_series[0]"
   ]
  },
  {
   "cell_type": "markdown",
   "metadata": {},
   "source": [
    "# 2D CNN"
   ]
  },
  {
   "cell_type": "code",
   "execution_count": 6,
   "metadata": {},
   "outputs": [],
   "source": [
    "# method to pad and reshape the feature arrays\n",
    "# xx: height of output\n",
    "# yy: width of output\n",
    "def padding(array, xx, yy):\n",
    "    h = array.shape[0]\n",
    "    w = array.shape[1]\n",
    "    a = max((xx - h) // 2, 0)\n",
    "    aa = max(0, xx - a - h)\n",
    "    b = max(0, (yy - w) // 2)\n",
    "    bb = max(yy - b - w, 0)\n",
    "    return np.pad(array, pad_width=((a, aa), (b, bb)), mode='constant')\n"
   ]
  },
  {
   "cell_type": "code",
   "execution_count": 7,
   "metadata": {},
   "outputs": [],
   "source": [
    "# method to extract and format the features to be used for a Conv2D model\n",
    "# \n",
    "def generate_features(time_series):\n",
    "    max_size = 1320  # max audio file feature width\n",
    "    n_fft = 255\n",
    "    hop_length = 512\n",
    "    \n",
    "\n",
    "    # short-time fourier transform\n",
    "    stft = padding(\n",
    "        np.abs(normalize(abs(librosa.stft(time_series, n_fft=255, hop_length=512)))), 128, max_size)\n",
    "\n",
    "    MFCCs = padding(normalize(librosa.feature.mfcc(time_series, n_fft=n_fft,\n",
    "                                                hop_length=hop_length, n_mfcc=128)), 128, max_size)\n",
    "    spec_centroid = normalize(librosa.feature.spectral_centroid(\n",
    "        y=time_series, sr=SAMPLE_RATE))\n",
    "    chroma_stft = normalize(librosa.feature.chroma_stft(\n",
    "        y=time_series, sr=SAMPLE_RATE))\n",
    "    spec_bw = normalize(librosa.feature.spectral_bandwidth(\n",
    "        y=time_series, sr=SAMPLE_RATE))\n",
    "\n",
    "    #Now the padding part\n",
    "    image = np.array([padding(normalize(spec_bw), 1, max_size)]\n",
    "                    ).reshape(1, max_size)\n",
    "    image = np.append(image, padding(\n",
    "        normalize(spec_centroid), 1, max_size), axis=0)\n",
    "\n",
    "    padded_spec_bw = padding(\n",
    "        normalize(spec_bw), 1, max_size)\n",
    "    padded_spec = padding(\n",
    "        normalize(spec_centroid), 1, max_size)\n",
    "    padded_chroma = padding(\n",
    "        normalize(chroma_stft), 12, max_size)\n",
    "\n",
    "    #repeat the padded spec_bw,spec_centroid and chroma stft until they are stft and MFCC-sized\n",
    "    for i in range(0, 9):\n",
    "        image = np.append(image, padded_spec_bw, axis=0)\n",
    "        image = np.append(image, padded_spec, axis=0)\n",
    "        image = np.append(image, padded_chroma, axis=0)\n",
    "\n",
    "    image = np.dstack((image, np.abs(stft)))\n",
    "    image = np.dstack((image, MFCCs))\n",
    "    return image"
   ]
  },
  {
   "cell_type": "code",
   "execution_count": 8,
   "metadata": {},
   "outputs": [],
   "source": [
    "# time_series = time_series_data[0]\n",
    "# max_size = 1320  # max audio file feature width\n",
    "# n_fft = 255\n",
    "# hop_length = 512\n",
    "\n",
    "# # short-time fourier transform\n",
    "# stft = padding(\n",
    "#     np.abs(normalize(abs(librosa.stft(time_series, n_fft=255, hop_length=512)))), 128, max_size)\n",
    "\n",
    "# MFCCs = padding(normalize(librosa.feature.mfcc(time_series, n_fft=n_fft,\n",
    "#                                      hop_length=hop_length, n_mfcc=128)), 128, max_size)\n",
    "# spec_centroid = normalize(librosa.feature.spectral_centroid(\n",
    "#     y=time_series, sr=SAMPLE_RATE))\n",
    "# chroma_stft = normalize(librosa.feature.chroma_stft(y=time_series, sr=SAMPLE_RATE))\n",
    "# spec_bw = normalize(librosa.feature.spectral_bandwidth(y=time_series, sr=SAMPLE_RATE))\n",
    "\n",
    "# #Now the padding part\n",
    "# image = np.array([padding(normalize(spec_bw), 1, max_size)]\n",
    "#                    ).reshape(1, max_size)\n",
    "# image = np.append(image, padding(\n",
    "#     normalize(spec_centroid), 1, max_size), axis=0)\n",
    "\n",
    "# padded_spec_bw = padding(\n",
    "#     normalize(spec_bw), 1, max_size)\n",
    "# padded_spec = padding(\n",
    "#     normalize(spec_centroid), 1, max_size)\n",
    "# padded_chroma = padding(\n",
    "#     normalize(chroma_stft), 12, max_size)\n",
    "\n",
    "# #repeat the padded spec_bw,spec_centroid and chroma stft until they are stft and MFCC-sized\n",
    "# for i in range(0, 9):\n",
    "#     image = np.append(image, padded_spec_bw, axis=0)\n",
    "#     image = np.append(image, padded_spec, axis=0)\n",
    "#     image = np.append(image, padded_chroma, axis=0)\n",
    "\n",
    "# image = np.dstack((image, np.abs(stft)))\n",
    "# image = np.dstack((image, MFCCs))"
   ]
  },
  {
   "cell_type": "code",
   "execution_count": 9,
   "metadata": {},
   "outputs": [],
   "source": [
    "# spec_centroid = librosa.feature.spectral_centroid(\n",
    "#     y=time_series, sr=SAMPLE_RATE)\n",
    "# pd.DataFrame(padding(normalize(spec_centroid), 1, max_size)).iloc[0].value_counts()"
   ]
  },
  {
   "cell_type": "code",
   "execution_count": 10,
   "metadata": {},
   "outputs": [],
   "source": [
    "# padding(normalize(spec_centroid), 1, max_size).shape"
   ]
  },
  {
   "cell_type": "code",
   "execution_count": 11,
   "metadata": {},
   "outputs": [],
   "source": [
    "# def shapes(data, n=1):\n",
    "#     print('before padding shape:',data.shape)\n",
    "#     print('after padding shape:', padding(data, n, 1320).shape)"
   ]
  },
  {
   "cell_type": "code",
   "execution_count": 12,
   "metadata": {},
   "outputs": [],
   "source": [
    "# stft_arr = np.abs(librosa.stft(time_series, n_fft=255, hop_length=512))\n",
    "# MFCCs_arr = librosa.feature.mfcc(time_series, n_fft=n_fft,\n",
    "#                                      hop_length=hop_length, n_mfcc=128)\n",
    "# spec_centroid = librosa.feature.spectral_centroid(\n",
    "#     y=time_series, sr=SAMPLE_RATE)\n",
    "# chroma_stft = librosa.feature.chroma_stft(y=time_series, sr=SAMPLE_RATE)\n",
    "# spec_bw = librosa.feature.spectral_bandwidth(y=time_series, sr=SAMPLE_RATE)"
   ]
  },
  {
   "cell_type": "code",
   "execution_count": 13,
   "metadata": {},
   "outputs": [],
   "source": [
    "# features = np.array([generate_features(time_series_data[i]) for i in range(len(time_series_data))])\n",
    "# features = np.array(features)\n",
    "# features.shape"
   ]
  },
  {
   "cell_type": "code",
   "execution_count": 14,
   "metadata": {},
   "outputs": [],
   "source": [
    "SHAPE = (1000, 128, 1320, 3)"
   ]
  },
  {
   "cell_type": "code",
   "execution_count": 15,
   "metadata": {},
   "outputs": [],
   "source": [
    "from sklearn.preprocessing import LabelEncoder\n",
    "X = np.array(time_series_data)\n",
    "encoder1 = LabelEncoder()\n",
    "y = encoder1.fit_transform(y = labels)"
   ]
  },
  {
   "cell_type": "code",
   "execution_count": 16,
   "metadata": {},
   "outputs": [
    {
     "name": "stdout",
     "output_type": "stream",
     "text": [
      "800 200\n"
     ]
    }
   ],
   "source": [
    "#Split once to get the test and training set\n",
    "X_train, X_test, y_train, y_test = train_test_split(\n",
    "    X, y, test_size=0.20, random_state=123, stratify=y, shuffle = True)\n",
    "print(len(X_train), len(X_test))\n",
    "\n",
    "# # Split twice to get the validation set\n",
    "# X_train2, X_val, y_train2, y_val = train_test_split(\n",
    "#     X_train, y_train, test_size=0.20, random_state=123, shuffle = True)\n",
    "\n",
    "# print(len(X_train), len(X_test), len(X_val),\n",
    "#       len(y_train), len(y_test), len(y_val))"
   ]
  },
  {
   "cell_type": "code",
   "execution_count": 19,
   "metadata": {},
   "outputs": [],
   "source": [
    "# X_val = np.array([generate_features(X_val[i]) for i in range(len(X_val))])"
   ]
  },
  {
   "cell_type": "code",
   "execution_count": 20,
   "metadata": {},
   "outputs": [],
   "source": [
    "X_test = np.array([generate_features(X_test[i]) for i in range(len(X_test))])"
   ]
  },
  {
   "cell_type": "code",
   "execution_count": 21,
   "metadata": {},
   "outputs": [],
   "source": [
    "X_train = np.array([generate_features(X_train[i]) for i in range(len(X_train))])"
   ]
  },
  {
   "cell_type": "code",
   "execution_count": 22,
   "metadata": {},
   "outputs": [
    {
     "name": "stdout",
     "output_type": "stream",
     "text": [
      "(800, 128, 1320, 3) (200, 128, 1320, 3) 800 200\n"
     ]
    }
   ],
   "source": [
    "print(X_train.shape, X_test.shape,\n",
    "      len(y_train), len(y_test))"
   ]
  },
  {
   "cell_type": "code",
   "execution_count": 23,
   "metadata": {},
   "outputs": [
    {
     "name": "stdout",
     "output_type": "stream",
     "text": [
      "[['blues']\n",
      " ['classical']\n",
      " ['country']\n",
      " ['disco']\n",
      " ['hiphop']\n",
      " ['jazz']\n",
      " ['metal']\n",
      " ['pop']\n",
      " ['reggae']\n",
      " ['rock']]\n",
      "[[1. 0. 0. 0. 0. 0. 0. 0. 0. 0.]\n",
      " [0. 1. 0. 0. 0. 0. 0. 0. 0. 0.]\n",
      " [0. 0. 1. 0. 0. 0. 0. 0. 0. 0.]\n",
      " [0. 0. 0. 1. 0. 0. 0. 0. 0. 0.]\n",
      " [0. 0. 0. 0. 1. 0. 0. 0. 0. 0.]\n",
      " [0. 0. 0. 0. 0. 1. 0. 0. 0. 0.]\n",
      " [0. 0. 0. 0. 0. 0. 1. 0. 0. 0.]\n",
      " [0. 0. 0. 0. 0. 0. 0. 1. 0. 0.]\n",
      " [0. 0. 0. 0. 0. 0. 0. 0. 1. 0.]\n",
      " [0. 0. 0. 0. 0. 0. 0. 0. 0. 1.]]\n"
     ]
    }
   ],
   "source": [
    "from sklearn.preprocessing import OneHotEncoder\n",
    "# define data\n",
    "data = np.unique(np.array(labels)).reshape(-1, 1)\n",
    "print(data)\n",
    "# define one hot encoding\n",
    "encoder = OneHotEncoder(sparse=False)\n",
    "# transform data\n",
    "onehot = encoder.fit_transform(data)\n",
    "print(onehot)\n"
   ]
  },
  {
   "cell_type": "code",
   "execution_count": 24,
   "metadata": {},
   "outputs": [],
   "source": [
    "y_test_one_hot = encoder.transform(encoder1.inverse_transform(y_test).reshape(-1,1))\n",
    "y_train_one_hot = encoder.transform(\n",
    "    encoder1.inverse_transform(y_train).reshape(-1, 1))\n",
    "# y_val_one_hot = encoder.transform(\n",
    "#     encoder1.inverse_transform(y_val).reshape(-1, 1))"
   ]
  },
  {
   "cell_type": "code",
   "execution_count": 25,
   "metadata": {},
   "outputs": [],
   "source": [
    "def plot_learning_curves_cnn(history):\n",
    "    history_dict = history.history\n",
    "    loss_values = history_dict['loss']\n",
    "    acc_values = history_dict['accuracy']\n",
    "    val_loss_values = history_dict['val_loss']\n",
    "    val_acc_values = history_dict['val_accuracy']\n",
    "    n_epochs = len(loss_values) + 1\n",
    "    epochs = range(1, n_epochs)\n",
    "    fig, (ax1, ax2) = plt.subplots(1, 2, figsize=(15, 5))\n",
    "    ax1.plot(epochs, loss_values, 'bo', label='Training Loss')\n",
    "    ax1.plot(epochs, val_loss_values, 'orange', label='Validation Loss')\n",
    "    ax1.set_title('Training and validation loss')\n",
    "    ax1.set_xlabel('Epochs')\n",
    "    ax1.set_ylabel('Loss')\n",
    "    ax1.legend()\n",
    "    ax2.plot(epochs, acc_values, 'bo', label='Training accuracy')\n",
    "    ax2.plot(epochs, val_acc_values, 'orange', label='Validation accuracy')\n",
    "    ax2.set_title('Training and validation accuracy')\n",
    "    ax2.set_xlabel('Epochs')\n",
    "    ax2.set_ylabel('Accuracy')\n",
    "    ax2.legend()\n",
    "    plt.show()\n"
   ]
  },
  {
   "cell_type": "code",
   "execution_count": 32,
   "metadata": {},
   "outputs": [],
   "source": [
    "from keras import callbacks\n",
    "\n",
    "earlystopping = callbacks.EarlyStopping(monitor=\"val_accuracy\",\n",
    "                                        mode=\"min\", patience=3)\n",
    "\n",
    "reduceLROnPlat = callbacks.ReduceLROnPlateau(\n",
    "    monitor='val_loss',\n",
    "    factor=0.95,\n",
    "    patience=5,\n",
    "    verbose=1,\n",
    "    mode='min',\n",
    "    min_delta=0.0001,\n",
    "    cooldown=2,\n",
    "    min_lr=1e-5\n",
    ")\n",
    "\n",
    "\n",
    "input_shape = (128, 1320, 3)"
   ]
  },
  {
   "cell_type": "code",
   "execution_count": 42,
   "metadata": {},
   "outputs": [],
   "source": [
    "\n",
    "CNNmodel = models.Sequential()\n",
    "CNNmodel.add(layers.Conv2D(\n",
    "    32, (3, 3), activation='relu', input_shape=input_shape))\n",
    "CNNmodel.add(layers.MaxPooling2D((2, 2)))\n",
    "CNNmodel.add(layers.Dropout(0.2))\n",
    "CNNmodel.add(layers.Conv2D(64, (3, 3), activation='relu'))\n",
    "CNNmodel.add(layers.MaxPooling2D((2, 2)))\n",
    "CNNmodel.add(layers.Dropout(0.2))\n",
    "CNNmodel.add(layers.Conv2D(64, (3, 3), activation='relu'))\n",
    "CNNmodel.add(layers.Flatten())\n",
    "CNNmodel.add(layers.Dense(64, activation='relu'))\n",
    "CNNmodel.add(layers.Dropout(0.2))\n",
    "CNNmodel.add(layers.Dense(32, activation='relu'))\n",
    "CNNmodel.add(layers.Dense(10, activation='softmax'))"
   ]
  },
  {
   "cell_type": "code",
   "execution_count": 43,
   "metadata": {},
   "outputs": [],
   "source": [
    "CNNmodel.compile(optimizer='adam',loss=tf.keras.losses.CategoricalCrossentropy(from_logits=False), metrics=['accuracy'])"
   ]
  },
  {
   "cell_type": "code",
   "execution_count": 44,
   "metadata": {},
   "outputs": [
    {
     "name": "stdout",
     "output_type": "stream",
     "text": [
      "Epoch 1/15\n",
      "19/19 [==============================] - 68s 3s/step - loss: 2.4068 - accuracy: 0.1117 - val_loss: 2.3031 - val_accuracy: 0.1150\n",
      "Epoch 2/15\n",
      "19/19 [==============================] - 66s 4s/step - loss: 2.3030 - accuracy: 0.0983 - val_loss: 2.3006 - val_accuracy: 0.0800\n",
      "Epoch 3/15\n",
      "19/19 [==============================] - 65s 3s/step - loss: 2.3029 - accuracy: 0.1217 - val_loss: 2.3041 - val_accuracy: 0.0750\n",
      "Epoch 4/15\n",
      "19/19 [==============================] - 61s 3s/step - loss: 2.3023 - accuracy: 0.1083 - val_loss: 2.3044 - val_accuracy: 0.0750\n",
      "Epoch 5/15\n",
      "19/19 [==============================] - 61s 3s/step - loss: 2.3021 - accuracy: 0.1083 - val_loss: 2.3050 - val_accuracy: 0.0750\n",
      "Epoch 6/15\n",
      "19/19 [==============================] - 62s 3s/step - loss: 2.3030 - accuracy: 0.1233 - val_loss: 2.3064 - val_accuracy: 0.0900\n",
      "Epoch 7/15\n",
      "19/19 [==============================] - 60s 3s/step - loss: 2.3019 - accuracy: 0.1017 - val_loss: 2.3051 - val_accuracy: 0.0750\n",
      "Epoch 8/15\n",
      "19/19 [==============================] - 58s 3s/step - loss: 2.2988 - accuracy: 0.1383 - val_loss: 2.2994 - val_accuracy: 0.1450\n",
      "Epoch 9/15\n",
      "19/19 [==============================] - 57s 3s/step - loss: 2.2610 - accuracy: 0.1683 - val_loss: 2.2139 - val_accuracy: 0.1850\n",
      "Epoch 10/15\n",
      "19/19 [==============================] - 57s 3s/step - loss: 1.9472 - accuracy: 0.2950 - val_loss: 2.1551 - val_accuracy: 0.2000\n",
      "Epoch 11/15\n",
      "19/19 [==============================] - 58s 3s/step - loss: 1.3033 - accuracy: 0.5733 - val_loss: 2.3972 - val_accuracy: 0.2550\n",
      "Epoch 12/15\n",
      "19/19 [==============================] - 57s 3s/step - loss: 0.7186 - accuracy: 0.7583 - val_loss: 2.7531 - val_accuracy: 0.2850\n",
      "Epoch 13/15\n",
      "19/19 [==============================] - 58s 3s/step - loss: 0.4025 - accuracy: 0.8600 - val_loss: 3.0014 - val_accuracy: 0.2850\n",
      "Epoch 14/15\n",
      "19/19 [==============================] - 58s 3s/step - loss: 0.3121 - accuracy: 0.9100 - val_loss: 3.4980 - val_accuracy: 0.2700\n",
      "Epoch 15/15\n",
      "19/19 [==============================] - 57s 3s/step - loss: 0.2444 - accuracy: 0.9283 - val_loss: 3.5801 - val_accuracy: 0.3200\n"
     ]
    }
   ],
   "source": [
    "history = CNNmodel.fit(X_train, y_train_one_hot, epochs=15,\n",
    "                       validation_split=0.25, shuffle=True)\n"
   ]
  },
  {
   "cell_type": "code",
   "execution_count": 45,
   "metadata": {},
   "outputs": [
    {
     "name": "stdout",
     "output_type": "stream",
     "text": [
      "7/7 [==============================] - 4s 547ms/step - loss: 4.1633 - accuracy: 0.2450\n",
      "Test loss for audio data:  4.163326740264893\n",
      "Best accuracy for audio data:  0.24500000476837158\n"
     ]
    }
   ],
   "source": [
    "test_loss_audio, test_acc_audio = CNNmodel.evaluate(\n",
    "    X_test, y_test_one_hot)\n",
    "\n",
    "print(\"Test loss for audio data: \", test_loss_audio)\n",
    "print(\"Best accuracy for audio data: \", test_acc_audio)"
   ]
  },
  {
   "cell_type": "code",
   "execution_count": 46,
   "metadata": {},
   "outputs": [
    {
     "data": {
      "image/png": "[encoded data removed]",
      "text/plain": [
       "<Figure size 1080x360 with 2 Axes>"
      ]
     },
     "metadata": {
      "needs_background": "light"
     },
     "output_type": "display_data"
    }
   ],
   "source": [
    "plot_learning_curves_cnn(history)"
   ]
  },
  {
   "cell_type": "code",
   "execution_count": 47,
   "metadata": {},
   "outputs": [
    {
     "name": "stdout",
     "output_type": "stream",
     "text": [
      "7/7 [==============================] - 4s 532ms/step\n"
     ]
    },
    {
     "data": {
      "image/png": "[encoded data removed]",
      "text/plain": [
       "<Figure size 432x360 with 2 Axes>"
      ]
     },
     "metadata": {
      "needs_background": "light"
     },
     "output_type": "display_data"
    }
   ],
   "source": [
    "from sklearn.metrics import confusion_matrix\n",
    "\n",
    "y_pred = np.argmax(CNNmodel.predict(X_test), axis=1)\n",
    "fig, axs = plt.subplots(1, 1, figsize=(6, 5))\n",
    "\n",
    "\n",
    "confusion_mat = confusion_matrix(y_test, y_pred)\n",
    "sns.heatmap(confusion_mat, annot=True, cmap='magma', ax=axs, fmt='g')\n",
    "\n",
    "axs.grid(False)\n",
    "\n",
    "\n",
    "plt.suptitle(\n",
    "    f'Confusion matrix for Conv2D CNN',\n",
    "    fontsize=16)\n",
    "\n",
    "plt.subplots_adjust(\n",
    "    left=0.1,\n",
    "    bottom=0.1,\n",
    "    right=0.9,\n",
    "    top=0.8,\n",
    "    wspace=0.2,\n",
    "    hspace=0.4)\n"
   ]
  },
  {
   "cell_type": "code",
   "execution_count": null,
   "metadata": {},
   "outputs": [],
   "source": []
  }
 ],
 "metadata": {
  "interpreter": {
   "hash": "4471b9651200f143f2610a150acdb66fa3a20288230649061a23803899bad073"
  },
  "kernelspec": {
   "display_name": "Python 3.8.5 ('base')",
   "language": "python",
   "name": "python3"
  },
  "language_info": {
   "codemirror_mode": {
    "name": "ipython",
    "version": 3
   },
   "file_extension": ".py",
   "mimetype": "text/x-python",
   "name": "python",
   "nbconvert_exporter": "python",
   "pygments_lexer": "ipython3",
   "version": "3.8.5"
  },
  "orig_nbformat": 4
 },
 "nbformat": 4,
 "nbformat_minor": 2
}
