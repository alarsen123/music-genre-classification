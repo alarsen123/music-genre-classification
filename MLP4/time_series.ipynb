{
 "cells": [
  {
   "cell_type": "code",
   "execution_count": 51,
   "metadata": {},
   "outputs": [
    {
     "name": "stdout",
     "output_type": "stream",
     "text": [
      "INFO: Pandarallel will run on 6 workers.\n",
      "INFO: Pandarallel will use standard multiprocessing data transfer (pipe) to transfer data between the main process and workers.\n"
     ]
    }
   ],
   "source": [
    "import matplotlib as mpl\n",
    "import matplotlib.pyplot as plt\n",
    "import numpy as np\n",
    "import os\n",
    "import pandas as pd\n",
    "from pathlib import Path\n",
    "import pydotplus\n",
    "import seaborn as sns\n",
    "import sklearn\n",
    "import sys\n",
    "\n",
    "from graphviz import Source\n",
    "from pandarallel import pandarallel\n",
    "from sklearn.model_selection import train_test_split, GridSearchCV, learning_curve\n",
    "from sklearn.metrics import classification_report, plot_confusion_matrix, mean_squared_error\n",
    "from sklearn.tree import DecisionTreeClassifier, export_graphviz\n",
    "from sklearn.neighbors import KNeighborsClassifier\n",
    "from sklearn.pipeline import Pipeline\n",
    "from sklearn.preprocessing import StandardScaler, MinMaxScaler\n",
    "from sklearn.neural_network import MLPClassifier\n",
    "\n",
    "from os import listdir, path\n",
    "from os.path import isfile, join\n",
    "\n",
    "# Python ≥3.5 is required\n",
    "assert sys.version_info >= (3, 5)\n",
    "\n",
    "# Scikit-Learn ≥0.20 is required\n",
    "assert sklearn.__version__ >= \"0.20\"\n",
    "\n",
    "# To plot pretty figures\n",
    "%matplotlib inline\n",
    "mpl.rc('axes', labelsize=14)\n",
    "mpl.rc('xtick', labelsize=12)\n",
    "mpl.rc('ytick', labelsize=12)\n",
    "plt.style.use('fivethirtyeight')\n",
    "\n",
    "# to make this notebook's output stable across runs\n",
    "np.random.seed(42)\n",
    "\n",
    "RESULTS_PATH = os.path.join('./results')\n",
    "\n",
    "os.environ['LIBROSA_CACHE_DIR'] = '/tmp/librosa_cache'\n",
    "import librosa\n",
    "\n",
    "%matplotlib inline\n",
    "pandarallel.initialize(progress_bar=True)"
   ]
  },
  {
   "cell_type": "code",
   "execution_count": 47,
   "metadata": {},
   "outputs": [],
   "source": [
    "genre_folder = '../MLP2/rawdata/genres'\n",
    "genre_names = [f for f in listdir(\n",
    "    path=genre_folder) if not isfile(join(genre_folder, f))]\n",
    "\n",
    "SAMPLE_RATE = 22050\n",
    "\n",
    "time_series_data, labels = [], []\n",
    "i = 0\n",
    "\n",
    "song_paths = []\n",
    "for g in genre_names:\n",
    "    p = genre_folder + '/' + g  # path for a genre folder\n",
    "    for song in sorted(listdir(path=p)):  # song at index 0 for each folder\n",
    "        song_paths.append(p + '/' + song)\n",
    "        # time_series, sample_rate = librosa.load(Path(song_path))\n",
    "        # t = np.array(time_series)\n",
    "        # time_series_data.append(t)\n",
    "        labels.append(g)\n",
    "        i += 0"
   ]
  },
  {
   "cell_type": "code",
   "execution_count": 48,
   "metadata": {},
   "outputs": [
    {
     "data": {
      "text/html": [
       "<div>\n",
       "<style scoped>\n",
       "    .dataframe tbody tr th:only-of-type {\n",
       "        vertical-align: middle;\n",
       "    }\n",
       "\n",
       "    .dataframe tbody tr th {\n",
       "        vertical-align: top;\n",
       "    }\n",
       "\n",
       "    .dataframe thead th {\n",
       "        text-align: right;\n",
       "    }\n",
       "</style>\n",
       "<table border=\"1\" class=\"dataframe\">\n",
       "  <thead>\n",
       "    <tr style=\"text-align: right;\">\n",
       "      <th></th>\n",
       "      <th>path</th>\n",
       "      <th>genre</th>\n",
       "    </tr>\n",
       "  </thead>\n",
       "  <tbody>\n",
       "    <tr>\n",
       "      <th>0</th>\n",
       "      <td>../MLP2/rawdata/genres/pop/pop.00000.wav</td>\n",
       "      <td>pop</td>\n",
       "    </tr>\n",
       "    <tr>\n",
       "      <th>1</th>\n",
       "      <td>../MLP2/rawdata/genres/pop/pop.00001.wav</td>\n",
       "      <td>pop</td>\n",
       "    </tr>\n",
       "    <tr>\n",
       "      <th>2</th>\n",
       "      <td>../MLP2/rawdata/genres/pop/pop.00002.wav</td>\n",
       "      <td>pop</td>\n",
       "    </tr>\n",
       "    <tr>\n",
       "      <th>3</th>\n",
       "      <td>../MLP2/rawdata/genres/pop/pop.00003.wav</td>\n",
       "      <td>pop</td>\n",
       "    </tr>\n",
       "    <tr>\n",
       "      <th>4</th>\n",
       "      <td>../MLP2/rawdata/genres/pop/pop.00004.wav</td>\n",
       "      <td>pop</td>\n",
       "    </tr>\n",
       "  </tbody>\n",
       "</table>\n",
       "</div>"
      ],
      "text/plain": [
       "                                       path genre\n",
       "0  ../MLP2/rawdata/genres/pop/pop.00000.wav   pop\n",
       "1  ../MLP2/rawdata/genres/pop/pop.00001.wav   pop\n",
       "2  ../MLP2/rawdata/genres/pop/pop.00002.wav   pop\n",
       "3  ../MLP2/rawdata/genres/pop/pop.00003.wav   pop\n",
       "4  ../MLP2/rawdata/genres/pop/pop.00004.wav   pop"
      ]
     },
     "execution_count": 48,
     "metadata": {},
     "output_type": "execute_result"
    }
   ],
   "source": [
    "song_df = pd.DataFrame({'path': song_paths, 'genre': labels})\n",
    "song_df.head()"
   ]
  },
  {
   "cell_type": "code",
   "execution_count": 73,
   "metadata": {},
   "outputs": [
    {
     "data": {
      "application/vnd.jupyter.widget-view+json": {
       "model_id": "93f0e4bffeb144f8a6480a35caa68175",
       "version_major": 2,
       "version_minor": 0
      },
      "text/plain": [
       "VBox(children=(HBox(children=(IntProgress(value=0, description='0.00%', max=167), Label(value='0 / 167'))), HB…"
      ]
     },
     "metadata": {},
     "output_type": "display_data"
    }
   ],
   "source": [
    "song_df['time_series'] = song_df.path.parallel_apply(\n",
    "    lambda x: librosa.load(x)[0])\n"
   ]
  },
  {
   "cell_type": "code",
   "execution_count": 85,
   "metadata": {},
   "outputs": [
    {
     "data": {
      "application/vnd.jupyter.widget-view+json": {
       "model_id": "46baccf9597a4237b5534c3af4e5cbf6",
       "version_major": 2,
       "version_minor": 0
      },
      "text/plain": [
       "VBox(children=(HBox(children=(IntProgress(value=0, description='0.00%', max=167), Label(value='0 / 167'))), HB…"
      ]
     },
     "metadata": {},
     "output_type": "display_data"
    },
    {
     "data": {
      "application/vnd.jupyter.widget-view+json": {
       "model_id": "a1c8f856898a41a28ca4494352dfa549",
       "version_major": 2,
       "version_minor": 0
      },
      "text/plain": [
       "VBox(children=(HBox(children=(IntProgress(value=0, description='0.00%', max=167), Label(value='0 / 167'))), HB…"
      ]
     },
     "metadata": {},
     "output_type": "display_data"
    },
    {
     "data": {
      "application/vnd.jupyter.widget-view+json": {
       "model_id": "3e6355d11bb84e519789cd8442dc7ea2",
       "version_major": 2,
       "version_minor": 0
      },
      "text/plain": [
       "VBox(children=(HBox(children=(IntProgress(value=0, description='0.00%', max=167), Label(value='0 / 167'))), HB…"
      ]
     },
     "metadata": {},
     "output_type": "display_data"
    },
    {
     "data": {
      "application/vnd.jupyter.widget-view+json": {
       "model_id": "e043fbb68ac74e72b5a84566f9fffbbc",
       "version_major": 2,
       "version_minor": 0
      },
      "text/plain": [
       "VBox(children=(HBox(children=(IntProgress(value=0, description='0.00%', max=167), Label(value='0 / 167'))), HB…"
      ]
     },
     "metadata": {},
     "output_type": "display_data"
    },
    {
     "data": {
      "application/vnd.jupyter.widget-view+json": {
       "model_id": "fa6058bdabc448a9a2b357d6de94eade",
       "version_major": 2,
       "version_minor": 0
      },
      "text/plain": [
       "VBox(children=(HBox(children=(IntProgress(value=0, description='0.00%', max=167), Label(value='0 / 167'))), HB…"
      ]
     },
     "metadata": {},
     "output_type": "display_data"
    },
    {
     "data": {
      "application/vnd.jupyter.widget-view+json": {
       "model_id": "c728d13f5e6b45ae8c62fe5a1f3502a6",
       "version_major": 2,
       "version_minor": 0
      },
      "text/plain": [
       "VBox(children=(HBox(children=(IntProgress(value=0, description='0.00%', max=167), Label(value='0 / 167'))), HB…"
      ]
     },
     "metadata": {},
     "output_type": "display_data"
    },
    {
     "data": {
      "text/html": [
       "<div>\n",
       "<style scoped>\n",
       "    .dataframe tbody tr th:only-of-type {\n",
       "        vertical-align: middle;\n",
       "    }\n",
       "\n",
       "    .dataframe tbody tr th {\n",
       "        vertical-align: top;\n",
       "    }\n",
       "\n",
       "    .dataframe thead th {\n",
       "        text-align: right;\n",
       "    }\n",
       "</style>\n",
       "<table border=\"1\" class=\"dataframe\">\n",
       "  <thead>\n",
       "    <tr style=\"text-align: right;\">\n",
       "      <th></th>\n",
       "      <th>path</th>\n",
       "      <th>genre</th>\n",
       "      <th>time_series</th>\n",
       "      <th>zero_crossing_rate</th>\n",
       "      <th>spectral_centroid</th>\n",
       "      <th>spectral_rolloff</th>\n",
       "      <th>mfcc</th>\n",
       "      <th>chroma_frequencies</th>\n",
       "      <th>fourier_tempogram</th>\n",
       "    </tr>\n",
       "  </thead>\n",
       "  <tbody>\n",
       "    <tr>\n",
       "      <th>0</th>\n",
       "      <td>../MLP2/rawdata/genres/pop/pop.00000.wav</td>\n",
       "      <td>pop</td>\n",
       "      <td>[-0.0887146, -0.09524536, -0.102752686, -0.113...</td>\n",
       "      <td>[0.00927734375, 0.0234375, 0.04541015625, 0.05...</td>\n",
       "      <td>[1812.4619528427452, 2913.4550162394453, 2870....</td>\n",
       "      <td>[5415.6005859375, 8247.216796875, 8118.0175781...</td>\n",
       "      <td>[-195.25616, -150.96812, -132.99374, -149.2361...</td>\n",
       "      <td>[1.0, 1.0, 0.5475674, 0.3053872, 0.4002126, 0....</td>\n",
       "      <td>[(147.03117+0j), (148.41435+0j), (149.79546+0j...</td>\n",
       "    </tr>\n",
       "    <tr>\n",
       "      <th>1</th>\n",
       "      <td>../MLP2/rawdata/genres/pop/pop.00001.wav</td>\n",
       "      <td>pop</td>\n",
       "      <td>[0.7692261, 0.2246399, 0.69036865, 0.7468872, ...</td>\n",
       "      <td>[0.02587890625, 0.03173828125, 0.03662109375, ...</td>\n",
       "      <td>[3696.826349368777, 3781.2397094717344, 3663.4...</td>\n",
       "      <td>[8268.75, 8570.21484375, 8828.61328125, 8021.1...</td>\n",
       "      <td>[8.333065, -5.50078, -77.25962, -142.30276, -2...</td>\n",
       "      <td>[0.79645014, 0.55124533, 0.47261623, 0.3771407...</td>\n",
       "      <td>[(220.49376+0j), (222.84566+0j), (225.19794+0j...</td>\n",
       "    </tr>\n",
       "    <tr>\n",
       "      <th>2</th>\n",
       "      <td>../MLP2/rawdata/genres/pop/pop.00002.wav</td>\n",
       "      <td>pop</td>\n",
       "      <td>[-0.09274292, -0.11630249, -0.11886597, -0.107...</td>\n",
       "      <td>[0.03076171875, 0.05419921875, 0.0869140625, 0...</td>\n",
       "      <td>[2951.7610867714993, 2998.306335806811, 3043.4...</td>\n",
       "      <td>[8764.013671875, 8925.5126953125, 7913.4521484...</td>\n",
       "      <td>[-171.28282, -156.23244, -45.063564, 26.249937...</td>\n",
       "      <td>[0.29866484, 0.137576, 0.26829377, 0.56323946,...</td>\n",
       "      <td>[(167.81305+0j), (169.5363+0j), (171.25871+0j)...</td>\n",
       "    </tr>\n",
       "    <tr>\n",
       "      <th>3</th>\n",
       "      <td>../MLP2/rawdata/genres/pop/pop.00003.wav</td>\n",
       "      <td>pop</td>\n",
       "      <td>[-0.024993896, -0.018157959, -0.020233154, 0.0...</td>\n",
       "      <td>[0.06689453125, 0.08251953125, 0.0908203125, 0...</td>\n",
       "      <td>[3016.556497593843, 2733.093472180655, 2394.70...</td>\n",
       "      <td>[8914.74609375, 7934.9853515625, 7418.18847656...</td>\n",
       "      <td>[-151.17372, -115.99337, -137.84445, -183.4657...</td>\n",
       "      <td>[1.0, 1.0, 0.35716882, 0.13711458, 0.09756262,...</td>\n",
       "      <td>[(153.44576+0j), (154.8538+0j), (156.2569+0j),...</td>\n",
       "    </tr>\n",
       "    <tr>\n",
       "      <th>4</th>\n",
       "      <td>../MLP2/rawdata/genres/pop/pop.00004.wav</td>\n",
       "      <td>pop</td>\n",
       "      <td>[-0.12844849, -0.10952759, -0.06726074, -0.028...</td>\n",
       "      <td>[0.0419921875, 0.0634765625, 0.08447265625, 0....</td>\n",
       "      <td>[1861.496524385576, 1894.3471992720065, 1987.4...</td>\n",
       "      <td>[3348.4130859375, 3348.4130859375, 3359.179687...</td>\n",
       "      <td>[-87.60696, -63.465073, -62.712914, -56.52946,...</td>\n",
       "      <td>[0.31229314, 0.39315093, 0.3674996, 0.27865446...</td>\n",
       "      <td>[(129.28964+0j), (130.727+0j), (132.16612+0j),...</td>\n",
       "    </tr>\n",
       "    <tr>\n",
       "      <th>...</th>\n",
       "      <td>...</td>\n",
       "      <td>...</td>\n",
       "      <td>...</td>\n",
       "      <td>...</td>\n",
       "      <td>...</td>\n",
       "      <td>...</td>\n",
       "      <td>...</td>\n",
       "      <td>...</td>\n",
       "      <td>...</td>\n",
       "    </tr>\n",
       "    <tr>\n",
       "      <th>995</th>\n",
       "      <td>../MLP2/rawdata/genres/jazz/jazz.00095.wav</td>\n",
       "      <td>jazz</td>\n",
       "      <td>[-0.062194824, -0.09188843, -0.072052, -0.0799...</td>\n",
       "      <td>[0.02587890625, 0.03759765625, 0.0556640625, 0...</td>\n",
       "      <td>[1814.6794306123995, 2044.7159649785262, 2234....</td>\n",
       "      <td>[3886.7431640625, 4909.5703125, 5760.131835937...</td>\n",
       "      <td>[-211.30547, -206.57405, -231.43155, -213.8381...</td>\n",
       "      <td>[0.3083562, 0.11353422, 0.09033802, 0.1906156,...</td>\n",
       "      <td>[(103.104195+0j), (104.22215+0j), (105.34045+0...</td>\n",
       "    </tr>\n",
       "    <tr>\n",
       "      <th>996</th>\n",
       "      <td>../MLP2/rawdata/genres/jazz/jazz.00096.wav</td>\n",
       "      <td>jazz</td>\n",
       "      <td>[0.045013428, 0.07720947, 0.058258057, 0.06036...</td>\n",
       "      <td>[0.044921875, 0.0673828125, 0.0859375, 0.09570...</td>\n",
       "      <td>[1955.5418442933342, 2164.7091771559126, 2369....</td>\n",
       "      <td>[4532.7392578125, 5200.2685546875, 5523.266601...</td>\n",
       "      <td>[-181.1916, -177.69016, -204.2336, -220.05225,...</td>\n",
       "      <td>[0.08535859, 0.028048158, 0.010128682, 0.00710...</td>\n",
       "      <td>[(105.53118+0j), (106.63355+0j), (107.73575+0j...</td>\n",
       "    </tr>\n",
       "    <tr>\n",
       "      <th>997</th>\n",
       "      <td>../MLP2/rawdata/genres/jazz/jazz.00097.wav</td>\n",
       "      <td>jazz</td>\n",
       "      <td>[0.02279663, 0.03564453, 0.029205322, 0.029632...</td>\n",
       "      <td>[0.017578125, 0.0263671875, 0.03564453125, 0.0...</td>\n",
       "      <td>[1187.8249264990166, 952.6527363855892, 817.10...</td>\n",
       "      <td>[2217.919921875, 1442.724609375, 1184.32617187...</td>\n",
       "      <td>[-354.09113, -373.8292, -403.8538, -416.41177,...</td>\n",
       "      <td>[0.046386052, 0.038805358, 0.03744893, 0.03175...</td>\n",
       "      <td>[(90.99232+0j), (92.01011+0j), (93.02835+0j), ...</td>\n",
       "    </tr>\n",
       "    <tr>\n",
       "      <th>998</th>\n",
       "      <td>../MLP2/rawdata/genres/jazz/jazz.00098.wav</td>\n",
       "      <td>jazz</td>\n",
       "      <td>[-0.031066895, -0.05078125, -0.04537964, -0.04...</td>\n",
       "      <td>[0.0068359375, 0.01611328125, 0.0205078125, 0....</td>\n",
       "      <td>[1456.6106500541023, 1413.8374732896405, 1448....</td>\n",
       "      <td>[3563.7451171875, 3499.1455078125, 3574.511718...</td>\n",
       "      <td>[-308.07678, -300.8568, -313.62973, -321.6552,...</td>\n",
       "      <td>[0.9682443, 1.0, 1.0, 1.0, 1.0, 1.0, 0.9974777...</td>\n",
       "      <td>[(130.84767+0j), (132.1267+0j), (133.40443+0j)...</td>\n",
       "    </tr>\n",
       "    <tr>\n",
       "      <th>999</th>\n",
       "      <td>../MLP2/rawdata/genres/jazz/jazz.00099.wav</td>\n",
       "      <td>jazz</td>\n",
       "      <td>[-0.0138549805, -0.0075683594, 0.0066223145, 0...</td>\n",
       "      <td>[0.056640625, 0.0849609375, 0.1142578125, 0.11...</td>\n",
       "      <td>[1884.0940357260865, 1849.2537030496692, 1814....</td>\n",
       "      <td>[3563.7451171875, 3596.044921875, 3585.2783203...</td>\n",
       "      <td>[-333.5545, -344.4354, -367.6378, -373.06683, ...</td>\n",
       "      <td>[0.035439085, 0.014840754, 0.008170258, 0.0096...</td>\n",
       "      <td>[(122.88362+0j), (124.126+0j), (125.36748+0j),...</td>\n",
       "    </tr>\n",
       "  </tbody>\n",
       "</table>\n",
       "<p>1000 rows × 9 columns</p>\n",
       "</div>"
      ],
      "text/plain": [
       "                                           path genre  \\\n",
       "0      ../MLP2/rawdata/genres/pop/pop.00000.wav   pop   \n",
       "1      ../MLP2/rawdata/genres/pop/pop.00001.wav   pop   \n",
       "2      ../MLP2/rawdata/genres/pop/pop.00002.wav   pop   \n",
       "3      ../MLP2/rawdata/genres/pop/pop.00003.wav   pop   \n",
       "4      ../MLP2/rawdata/genres/pop/pop.00004.wav   pop   \n",
       "..                                          ...   ...   \n",
       "995  ../MLP2/rawdata/genres/jazz/jazz.00095.wav  jazz   \n",
       "996  ../MLP2/rawdata/genres/jazz/jazz.00096.wav  jazz   \n",
       "997  ../MLP2/rawdata/genres/jazz/jazz.00097.wav  jazz   \n",
       "998  ../MLP2/rawdata/genres/jazz/jazz.00098.wav  jazz   \n",
       "999  ../MLP2/rawdata/genres/jazz/jazz.00099.wav  jazz   \n",
       "\n",
       "                                           time_series  \\\n",
       "0    [-0.0887146, -0.09524536, -0.102752686, -0.113...   \n",
       "1    [0.7692261, 0.2246399, 0.69036865, 0.7468872, ...   \n",
       "2    [-0.09274292, -0.11630249, -0.11886597, -0.107...   \n",
       "3    [-0.024993896, -0.018157959, -0.020233154, 0.0...   \n",
       "4    [-0.12844849, -0.10952759, -0.06726074, -0.028...   \n",
       "..                                                 ...   \n",
       "995  [-0.062194824, -0.09188843, -0.072052, -0.0799...   \n",
       "996  [0.045013428, 0.07720947, 0.058258057, 0.06036...   \n",
       "997  [0.02279663, 0.03564453, 0.029205322, 0.029632...   \n",
       "998  [-0.031066895, -0.05078125, -0.04537964, -0.04...   \n",
       "999  [-0.0138549805, -0.0075683594, 0.0066223145, 0...   \n",
       "\n",
       "                                    zero_crossing_rate  \\\n",
       "0    [0.00927734375, 0.0234375, 0.04541015625, 0.05...   \n",
       "1    [0.02587890625, 0.03173828125, 0.03662109375, ...   \n",
       "2    [0.03076171875, 0.05419921875, 0.0869140625, 0...   \n",
       "3    [0.06689453125, 0.08251953125, 0.0908203125, 0...   \n",
       "4    [0.0419921875, 0.0634765625, 0.08447265625, 0....   \n",
       "..                                                 ...   \n",
       "995  [0.02587890625, 0.03759765625, 0.0556640625, 0...   \n",
       "996  [0.044921875, 0.0673828125, 0.0859375, 0.09570...   \n",
       "997  [0.017578125, 0.0263671875, 0.03564453125, 0.0...   \n",
       "998  [0.0068359375, 0.01611328125, 0.0205078125, 0....   \n",
       "999  [0.056640625, 0.0849609375, 0.1142578125, 0.11...   \n",
       "\n",
       "                                     spectral_centroid  \\\n",
       "0    [1812.4619528427452, 2913.4550162394453, 2870....   \n",
       "1    [3696.826349368777, 3781.2397094717344, 3663.4...   \n",
       "2    [2951.7610867714993, 2998.306335806811, 3043.4...   \n",
       "3    [3016.556497593843, 2733.093472180655, 2394.70...   \n",
       "4    [1861.496524385576, 1894.3471992720065, 1987.4...   \n",
       "..                                                 ...   \n",
       "995  [1814.6794306123995, 2044.7159649785262, 2234....   \n",
       "996  [1955.5418442933342, 2164.7091771559126, 2369....   \n",
       "997  [1187.8249264990166, 952.6527363855892, 817.10...   \n",
       "998  [1456.6106500541023, 1413.8374732896405, 1448....   \n",
       "999  [1884.0940357260865, 1849.2537030496692, 1814....   \n",
       "\n",
       "                                      spectral_rolloff  \\\n",
       "0    [5415.6005859375, 8247.216796875, 8118.0175781...   \n",
       "1    [8268.75, 8570.21484375, 8828.61328125, 8021.1...   \n",
       "2    [8764.013671875, 8925.5126953125, 7913.4521484...   \n",
       "3    [8914.74609375, 7934.9853515625, 7418.18847656...   \n",
       "4    [3348.4130859375, 3348.4130859375, 3359.179687...   \n",
       "..                                                 ...   \n",
       "995  [3886.7431640625, 4909.5703125, 5760.131835937...   \n",
       "996  [4532.7392578125, 5200.2685546875, 5523.266601...   \n",
       "997  [2217.919921875, 1442.724609375, 1184.32617187...   \n",
       "998  [3563.7451171875, 3499.1455078125, 3574.511718...   \n",
       "999  [3563.7451171875, 3596.044921875, 3585.2783203...   \n",
       "\n",
       "                                                  mfcc  \\\n",
       "0    [-195.25616, -150.96812, -132.99374, -149.2361...   \n",
       "1    [8.333065, -5.50078, -77.25962, -142.30276, -2...   \n",
       "2    [-171.28282, -156.23244, -45.063564, 26.249937...   \n",
       "3    [-151.17372, -115.99337, -137.84445, -183.4657...   \n",
       "4    [-87.60696, -63.465073, -62.712914, -56.52946,...   \n",
       "..                                                 ...   \n",
       "995  [-211.30547, -206.57405, -231.43155, -213.8381...   \n",
       "996  [-181.1916, -177.69016, -204.2336, -220.05225,...   \n",
       "997  [-354.09113, -373.8292, -403.8538, -416.41177,...   \n",
       "998  [-308.07678, -300.8568, -313.62973, -321.6552,...   \n",
       "999  [-333.5545, -344.4354, -367.6378, -373.06683, ...   \n",
       "\n",
       "                                    chroma_frequencies  \\\n",
       "0    [1.0, 1.0, 0.5475674, 0.3053872, 0.4002126, 0....   \n",
       "1    [0.79645014, 0.55124533, 0.47261623, 0.3771407...   \n",
       "2    [0.29866484, 0.137576, 0.26829377, 0.56323946,...   \n",
       "3    [1.0, 1.0, 0.35716882, 0.13711458, 0.09756262,...   \n",
       "4    [0.31229314, 0.39315093, 0.3674996, 0.27865446...   \n",
       "..                                                 ...   \n",
       "995  [0.3083562, 0.11353422, 0.09033802, 0.1906156,...   \n",
       "996  [0.08535859, 0.028048158, 0.010128682, 0.00710...   \n",
       "997  [0.046386052, 0.038805358, 0.03744893, 0.03175...   \n",
       "998  [0.9682443, 1.0, 1.0, 1.0, 1.0, 1.0, 0.9974777...   \n",
       "999  [0.035439085, 0.014840754, 0.008170258, 0.0096...   \n",
       "\n",
       "                                     fourier_tempogram  \n",
       "0    [(147.03117+0j), (148.41435+0j), (149.79546+0j...  \n",
       "1    [(220.49376+0j), (222.84566+0j), (225.19794+0j...  \n",
       "2    [(167.81305+0j), (169.5363+0j), (171.25871+0j)...  \n",
       "3    [(153.44576+0j), (154.8538+0j), (156.2569+0j),...  \n",
       "4    [(129.28964+0j), (130.727+0j), (132.16612+0j),...  \n",
       "..                                                 ...  \n",
       "995  [(103.104195+0j), (104.22215+0j), (105.34045+0...  \n",
       "996  [(105.53118+0j), (106.63355+0j), (107.73575+0j...  \n",
       "997  [(90.99232+0j), (92.01011+0j), (93.02835+0j), ...  \n",
       "998  [(130.84767+0j), (132.1267+0j), (133.40443+0j)...  \n",
       "999  [(122.88362+0j), (124.126+0j), (125.36748+0j),...  \n",
       "\n",
       "[1000 rows x 9 columns]"
      ]
     },
     "execution_count": 85,
     "metadata": {},
     "output_type": "execute_result"
    }
   ],
   "source": [
    "song_df['fourier_tempogram'] = song_df.time_series.parallel_apply(\n",
    "    lambda x: librosa.feature.fourier_tempogram(y=x)[0])\n",
    "song_df['mfcc'] = song_df.time_series.parallel_apply(\n",
    "    lambda x: librosa.feature.mfcc(y=x, sr=SAMPLE_RATE)[0])\n",
    "song_df['zero_crossing_rate'] = song_df.time_series.parallel_apply(\n",
    "    lambda x: librosa.feature.zero_crossing_rate(y=x)[0])\n",
    "song_df['spectral_centroid'] = song_df.time_series.parallel_apply(\n",
    "    lambda x: librosa.feature.spectral_centroid(y=x)[0])\n",
    "song_df['spectral_rolloff'] = song_df.time_series.parallel_apply(\n",
    "    lambda x: librosa.feature.spectral_rolloff(y=x)[0])\n",
    "song_df['chroma_frequencies'] = song_df.time_series.parallel_apply(\n",
    "    lambda x: librosa.feature.chroma_stft(y=x)[0])\n",
    "\n",
    "song_df"
   ]
  },
  {
   "cell_type": "code",
   "execution_count": 83,
   "metadata": {},
   "outputs": [
    {
     "data": {
      "text/plain": [
       "[[40, 3, 661504, 1293, 1293, 1293, 1293, 1293, 1294],\n",
       " [40, 3, 661504, 1293, 1293, 1293, 1293, 1293, 1294],\n",
       " [40, 3, 661504, 1293, 1293, 1293, 1293, 1293, 1294],\n",
       " [40, 3, 661504, 1293, 1293, 1293, 1293, 1293, 1294],\n",
       " [40, 3, 661504, 1293, 1293, 1293, 1293, 1293, 1294],\n",
       " [40, 3, 661504, 1293, 1293, 1293, 1293, 1293, 1294],\n",
       " [40, 3, 661504, 1293, 1293, 1293, 1293, 1293, 1294],\n",
       " [40, 3, 661504, 1293, 1293, 1293, 1293, 1293, 1294],\n",
       " [40, 3, 661504, 1293, 1293, 1293, 1293, 1293, 1294],\n",
       " [40, 3, 661504, 1293, 1293, 1293, 1293, 1293, 1294]]"
      ]
     },
     "execution_count": 83,
     "metadata": {},
     "output_type": "execute_result"
    }
   ],
   "source": [
    "[[len(song_df.iloc[i][c]) for c in song_df.columns] for i in range (10)]"
   ]
  },
  {
   "cell_type": "code",
   "execution_count": 97,
   "metadata": {},
   "outputs": [
    {
     "data": {
      "text/html": [
       "<div>\n",
       "<style scoped>\n",
       "    .dataframe tbody tr th:only-of-type {\n",
       "        vertical-align: middle;\n",
       "    }\n",
       "\n",
       "    .dataframe tbody tr th {\n",
       "        vertical-align: top;\n",
       "    }\n",
       "\n",
       "    .dataframe thead th {\n",
       "        text-align: right;\n",
       "    }\n",
       "</style>\n",
       "<table border=\"1\" class=\"dataframe\">\n",
       "  <thead>\n",
       "    <tr style=\"text-align: right;\">\n",
       "      <th></th>\n",
       "      <th>zero_crossing_rate</th>\n",
       "      <th>spectral_centroid</th>\n",
       "      <th>spectral_rolloff</th>\n",
       "      <th>mfcc</th>\n",
       "      <th>chroma_frequencies</th>\n",
       "      <th>fourier_tempogram</th>\n",
       "    </tr>\n",
       "  </thead>\n",
       "  <tbody>\n",
       "    <tr>\n",
       "      <th>0</th>\n",
       "      <td>[0.00927734375, 0.0234375, 0.04541015625, 0.05...</td>\n",
       "      <td>[1812.4619528427452, 2913.4550162394453, 2870....</td>\n",
       "      <td>[5415.6005859375, 8247.216796875, 8118.0175781...</td>\n",
       "      <td>[-195.25616, -150.96812, -132.99374, -149.2361...</td>\n",
       "      <td>[1.0, 1.0, 0.5475674, 0.3053872, 0.4002126, 0....</td>\n",
       "      <td>[(147.03117+0j), (148.41435+0j), (149.79546+0j...</td>\n",
       "    </tr>\n",
       "    <tr>\n",
       "      <th>1</th>\n",
       "      <td>[0.02587890625, 0.03173828125, 0.03662109375, ...</td>\n",
       "      <td>[3696.826349368777, 3781.2397094717344, 3663.4...</td>\n",
       "      <td>[8268.75, 8570.21484375, 8828.61328125, 8021.1...</td>\n",
       "      <td>[8.333065, -5.50078, -77.25962, -142.30276, -2...</td>\n",
       "      <td>[0.79645014, 0.55124533, 0.47261623, 0.3771407...</td>\n",
       "      <td>[(220.49376+0j), (222.84566+0j), (225.19794+0j...</td>\n",
       "    </tr>\n",
       "    <tr>\n",
       "      <th>2</th>\n",
       "      <td>[0.03076171875, 0.05419921875, 0.0869140625, 0...</td>\n",
       "      <td>[2951.7610867714993, 2998.306335806811, 3043.4...</td>\n",
       "      <td>[8764.013671875, 8925.5126953125, 7913.4521484...</td>\n",
       "      <td>[-171.28282, -156.23244, -45.063564, 26.249937...</td>\n",
       "      <td>[0.29866484, 0.137576, 0.26829377, 0.56323946,...</td>\n",
       "      <td>[(167.81305+0j), (169.5363+0j), (171.25871+0j)...</td>\n",
       "    </tr>\n",
       "    <tr>\n",
       "      <th>3</th>\n",
       "      <td>[0.06689453125, 0.08251953125, 0.0908203125, 0...</td>\n",
       "      <td>[3016.556497593843, 2733.093472180655, 2394.70...</td>\n",
       "      <td>[8914.74609375, 7934.9853515625, 7418.18847656...</td>\n",
       "      <td>[-151.17372, -115.99337, -137.84445, -183.4657...</td>\n",
       "      <td>[1.0, 1.0, 0.35716882, 0.13711458, 0.09756262,...</td>\n",
       "      <td>[(153.44576+0j), (154.8538+0j), (156.2569+0j),...</td>\n",
       "    </tr>\n",
       "    <tr>\n",
       "      <th>4</th>\n",
       "      <td>[0.0419921875, 0.0634765625, 0.08447265625, 0....</td>\n",
       "      <td>[1861.496524385576, 1894.3471992720065, 1987.4...</td>\n",
       "      <td>[3348.4130859375, 3348.4130859375, 3359.179687...</td>\n",
       "      <td>[-87.60696, -63.465073, -62.712914, -56.52946,...</td>\n",
       "      <td>[0.31229314, 0.39315093, 0.3674996, 0.27865446...</td>\n",
       "      <td>[(129.28964+0j), (130.727+0j), (132.16612+0j),...</td>\n",
       "    </tr>\n",
       "    <tr>\n",
       "      <th>...</th>\n",
       "      <td>...</td>\n",
       "      <td>...</td>\n",
       "      <td>...</td>\n",
       "      <td>...</td>\n",
       "      <td>...</td>\n",
       "      <td>...</td>\n",
       "    </tr>\n",
       "    <tr>\n",
       "      <th>995</th>\n",
       "      <td>[0.02587890625, 0.03759765625, 0.0556640625, 0...</td>\n",
       "      <td>[1814.6794306123995, 2044.7159649785262, 2234....</td>\n",
       "      <td>[3886.7431640625, 4909.5703125, 5760.131835937...</td>\n",
       "      <td>[-211.30547, -206.57405, -231.43155, -213.8381...</td>\n",
       "      <td>[0.3083562, 0.11353422, 0.09033802, 0.1906156,...</td>\n",
       "      <td>[(103.104195+0j), (104.22215+0j), (105.34045+0...</td>\n",
       "    </tr>\n",
       "    <tr>\n",
       "      <th>996</th>\n",
       "      <td>[0.044921875, 0.0673828125, 0.0859375, 0.09570...</td>\n",
       "      <td>[1955.5418442933342, 2164.7091771559126, 2369....</td>\n",
       "      <td>[4532.7392578125, 5200.2685546875, 5523.266601...</td>\n",
       "      <td>[-181.1916, -177.69016, -204.2336, -220.05225,...</td>\n",
       "      <td>[0.08535859, 0.028048158, 0.010128682, 0.00710...</td>\n",
       "      <td>[(105.53118+0j), (106.63355+0j), (107.73575+0j...</td>\n",
       "    </tr>\n",
       "    <tr>\n",
       "      <th>997</th>\n",
       "      <td>[0.017578125, 0.0263671875, 0.03564453125, 0.0...</td>\n",
       "      <td>[1187.8249264990166, 952.6527363855892, 817.10...</td>\n",
       "      <td>[2217.919921875, 1442.724609375, 1184.32617187...</td>\n",
       "      <td>[-354.09113, -373.8292, -403.8538, -416.41177,...</td>\n",
       "      <td>[0.046386052, 0.038805358, 0.03744893, 0.03175...</td>\n",
       "      <td>[(90.99232+0j), (92.01011+0j), (93.02835+0j), ...</td>\n",
       "    </tr>\n",
       "    <tr>\n",
       "      <th>998</th>\n",
       "      <td>[0.0068359375, 0.01611328125, 0.0205078125, 0....</td>\n",
       "      <td>[1456.6106500541023, 1413.8374732896405, 1448....</td>\n",
       "      <td>[3563.7451171875, 3499.1455078125, 3574.511718...</td>\n",
       "      <td>[-308.07678, -300.8568, -313.62973, -321.6552,...</td>\n",
       "      <td>[0.9682443, 1.0, 1.0, 1.0, 1.0, 1.0, 0.9974777...</td>\n",
       "      <td>[(130.84767+0j), (132.1267+0j), (133.40443+0j)...</td>\n",
       "    </tr>\n",
       "    <tr>\n",
       "      <th>999</th>\n",
       "      <td>[0.056640625, 0.0849609375, 0.1142578125, 0.11...</td>\n",
       "      <td>[1884.0940357260865, 1849.2537030496692, 1814....</td>\n",
       "      <td>[3563.7451171875, 3596.044921875, 3585.2783203...</td>\n",
       "      <td>[-333.5545, -344.4354, -367.6378, -373.06683, ...</td>\n",
       "      <td>[0.035439085, 0.014840754, 0.008170258, 0.0096...</td>\n",
       "      <td>[(122.88362+0j), (124.126+0j), (125.36748+0j),...</td>\n",
       "    </tr>\n",
       "  </tbody>\n",
       "</table>\n",
       "<p>1000 rows × 6 columns</p>\n",
       "</div>"
      ],
      "text/plain": [
       "                                    zero_crossing_rate  \\\n",
       "0    [0.00927734375, 0.0234375, 0.04541015625, 0.05...   \n",
       "1    [0.02587890625, 0.03173828125, 0.03662109375, ...   \n",
       "2    [0.03076171875, 0.05419921875, 0.0869140625, 0...   \n",
       "3    [0.06689453125, 0.08251953125, 0.0908203125, 0...   \n",
       "4    [0.0419921875, 0.0634765625, 0.08447265625, 0....   \n",
       "..                                                 ...   \n",
       "995  [0.02587890625, 0.03759765625, 0.0556640625, 0...   \n",
       "996  [0.044921875, 0.0673828125, 0.0859375, 0.09570...   \n",
       "997  [0.017578125, 0.0263671875, 0.03564453125, 0.0...   \n",
       "998  [0.0068359375, 0.01611328125, 0.0205078125, 0....   \n",
       "999  [0.056640625, 0.0849609375, 0.1142578125, 0.11...   \n",
       "\n",
       "                                     spectral_centroid  \\\n",
       "0    [1812.4619528427452, 2913.4550162394453, 2870....   \n",
       "1    [3696.826349368777, 3781.2397094717344, 3663.4...   \n",
       "2    [2951.7610867714993, 2998.306335806811, 3043.4...   \n",
       "3    [3016.556497593843, 2733.093472180655, 2394.70...   \n",
       "4    [1861.496524385576, 1894.3471992720065, 1987.4...   \n",
       "..                                                 ...   \n",
       "995  [1814.6794306123995, 2044.7159649785262, 2234....   \n",
       "996  [1955.5418442933342, 2164.7091771559126, 2369....   \n",
       "997  [1187.8249264990166, 952.6527363855892, 817.10...   \n",
       "998  [1456.6106500541023, 1413.8374732896405, 1448....   \n",
       "999  [1884.0940357260865, 1849.2537030496692, 1814....   \n",
       "\n",
       "                                      spectral_rolloff  \\\n",
       "0    [5415.6005859375, 8247.216796875, 8118.0175781...   \n",
       "1    [8268.75, 8570.21484375, 8828.61328125, 8021.1...   \n",
       "2    [8764.013671875, 8925.5126953125, 7913.4521484...   \n",
       "3    [8914.74609375, 7934.9853515625, 7418.18847656...   \n",
       "4    [3348.4130859375, 3348.4130859375, 3359.179687...   \n",
       "..                                                 ...   \n",
       "995  [3886.7431640625, 4909.5703125, 5760.131835937...   \n",
       "996  [4532.7392578125, 5200.2685546875, 5523.266601...   \n",
       "997  [2217.919921875, 1442.724609375, 1184.32617187...   \n",
       "998  [3563.7451171875, 3499.1455078125, 3574.511718...   \n",
       "999  [3563.7451171875, 3596.044921875, 3585.2783203...   \n",
       "\n",
       "                                                  mfcc  \\\n",
       "0    [-195.25616, -150.96812, -132.99374, -149.2361...   \n",
       "1    [8.333065, -5.50078, -77.25962, -142.30276, -2...   \n",
       "2    [-171.28282, -156.23244, -45.063564, 26.249937...   \n",
       "3    [-151.17372, -115.99337, -137.84445, -183.4657...   \n",
       "4    [-87.60696, -63.465073, -62.712914, -56.52946,...   \n",
       "..                                                 ...   \n",
       "995  [-211.30547, -206.57405, -231.43155, -213.8381...   \n",
       "996  [-181.1916, -177.69016, -204.2336, -220.05225,...   \n",
       "997  [-354.09113, -373.8292, -403.8538, -416.41177,...   \n",
       "998  [-308.07678, -300.8568, -313.62973, -321.6552,...   \n",
       "999  [-333.5545, -344.4354, -367.6378, -373.06683, ...   \n",
       "\n",
       "                                    chroma_frequencies  \\\n",
       "0    [1.0, 1.0, 0.5475674, 0.3053872, 0.4002126, 0....   \n",
       "1    [0.79645014, 0.55124533, 0.47261623, 0.3771407...   \n",
       "2    [0.29866484, 0.137576, 0.26829377, 0.56323946,...   \n",
       "3    [1.0, 1.0, 0.35716882, 0.13711458, 0.09756262,...   \n",
       "4    [0.31229314, 0.39315093, 0.3674996, 0.27865446...   \n",
       "..                                                 ...   \n",
       "995  [0.3083562, 0.11353422, 0.09033802, 0.1906156,...   \n",
       "996  [0.08535859, 0.028048158, 0.010128682, 0.00710...   \n",
       "997  [0.046386052, 0.038805358, 0.03744893, 0.03175...   \n",
       "998  [0.9682443, 1.0, 1.0, 1.0, 1.0, 1.0, 0.9974777...   \n",
       "999  [0.035439085, 0.014840754, 0.008170258, 0.0096...   \n",
       "\n",
       "                                     fourier_tempogram  \n",
       "0    [(147.03117+0j), (148.41435+0j), (149.79546+0j...  \n",
       "1    [(220.49376+0j), (222.84566+0j), (225.19794+0j...  \n",
       "2    [(167.81305+0j), (169.5363+0j), (171.25871+0j)...  \n",
       "3    [(153.44576+0j), (154.8538+0j), (156.2569+0j),...  \n",
       "4    [(129.28964+0j), (130.727+0j), (132.16612+0j),...  \n",
       "..                                                 ...  \n",
       "995  [(103.104195+0j), (104.22215+0j), (105.34045+0...  \n",
       "996  [(105.53118+0j), (106.63355+0j), (107.73575+0j...  \n",
       "997  [(90.99232+0j), (92.01011+0j), (93.02835+0j), ...  \n",
       "998  [(130.84767+0j), (132.1267+0j), (133.40443+0j)...  \n",
       "999  [(122.88362+0j), (124.126+0j), (125.36748+0j),...  \n",
       "\n",
       "[1000 rows x 6 columns]"
      ]
     },
     "execution_count": 97,
     "metadata": {},
     "output_type": "execute_result"
    }
   ],
   "source": [
    "X = song_df[['zero_crossing_rate', 'spectral_centroid', 'spectral_rolloff', 'mfcc', 'chroma_frequencies', 'fourier_tempogram']]\n",
    "y = song_df['genre']\n",
    "X"
   ]
  },
  {
   "cell_type": "code",
   "execution_count": 94,
   "metadata": {},
   "outputs": [],
   "source": [
    "input_shape = (128, 1000, 3)\n",
    "CNNmodel = models.Sequential()\n",
    "CNNmodel.add(layers.Conv2D(\n",
    "    32, (3, 3), activation='relu', input_shape=input_shape))\n",
    "CNNmodel.add(layers.MaxPooling2D((2, 2)))\n",
    "CNNmodel.add(layers.Dropout(0.2))\n",
    "CNNmodel.add(layers.Conv2D(64, (3, 3), activation='relu'))\n",
    "CNNmodel.add(layers.MaxPooling2D((2, 2)))\n",
    "CNNmodel.add(layers.Dropout(0.2))\n",
    "CNNmodel.add(layers.Conv2D(64, (3, 3), activation='relu'))\n",
    "CNNmodel.add(layers.Flatten())\n",
    "CNNmodel.add(layers.Dense(64, activation='relu'))\n",
    "CNNmodel.add(layers.Dropout(0.2))\n",
    "CNNmodel.add(layers.Dense(32, activation='relu'))\n",
    "CNNmodel.add(layers.Dense(24, activation='softmax'))"
   ]
  },
  {
   "cell_type": "code",
   "execution_count": 96,
   "metadata": {},
   "outputs": [
    {
     "ename": "ValueError",
     "evalue": "Failed to convert a NumPy array to a Tensor (Unsupported object type numpy.ndarray).",
     "output_type": "error",
     "traceback": [
      "\u001b[0;31m---------------------------------------------------------------------------\u001b[0m",
      "\u001b[0;31mValueError\u001b[0m                                Traceback (most recent call last)",
      "\u001b[1;32m/Users/miarodgers/Documents/SU/CPSC-4310/code/music-genre-classification/MLP4/time_series.ipynb Cell 9'\u001b[0m in \u001b[0;36m<cell line: 1>\u001b[0;34m()\u001b[0m\n\u001b[0;32m----> <a href='vscode-notebook-cell:/Users/miarodgers/Documents/SU/CPSC-4310/code/music-genre-classification/MLP4/time_series.ipynb#ch0000042?line=0'>1</a>\u001b[0m history \u001b[39m=\u001b[39m CNNmodel\u001b[39m.\u001b[39;49mfit(X_train, y_train, epochs\u001b[39m=\u001b[39;49m\u001b[39m20\u001b[39;49m,\n\u001b[1;32m      <a href='vscode-notebook-cell:/Users/miarodgers/Documents/SU/CPSC-4310/code/music-genre-classification/MLP4/time_series.ipynb#ch0000042?line=1'>2</a>\u001b[0m                        validation_data\u001b[39m=\u001b[39;49m(X_test, y_test))\n",
      "File \u001b[0;32m~/opt/anaconda3/lib/python3.8/site-packages/keras/utils/traceback_utils.py:67\u001b[0m, in \u001b[0;36mfilter_traceback.<locals>.error_handler\u001b[0;34m(*args, **kwargs)\u001b[0m\n\u001b[1;32m     <a href='file:///Users/miarodgers/opt/anaconda3/lib/python3.8/site-packages/keras/utils/traceback_utils.py?line=64'>65</a>\u001b[0m \u001b[39mexcept\u001b[39;00m \u001b[39mException\u001b[39;00m \u001b[39mas\u001b[39;00m e:  \u001b[39m# pylint: disable=broad-except\u001b[39;00m\n\u001b[1;32m     <a href='file:///Users/miarodgers/opt/anaconda3/lib/python3.8/site-packages/keras/utils/traceback_utils.py?line=65'>66</a>\u001b[0m   filtered_tb \u001b[39m=\u001b[39m _process_traceback_frames(e\u001b[39m.\u001b[39m__traceback__)\n\u001b[0;32m---> <a href='file:///Users/miarodgers/opt/anaconda3/lib/python3.8/site-packages/keras/utils/traceback_utils.py?line=66'>67</a>\u001b[0m   \u001b[39mraise\u001b[39;00m e\u001b[39m.\u001b[39mwith_traceback(filtered_tb) \u001b[39mfrom\u001b[39;00m \u001b[39mNone\u001b[39m\n\u001b[1;32m     <a href='file:///Users/miarodgers/opt/anaconda3/lib/python3.8/site-packages/keras/utils/traceback_utils.py?line=67'>68</a>\u001b[0m \u001b[39mfinally\u001b[39;00m:\n\u001b[1;32m     <a href='file:///Users/miarodgers/opt/anaconda3/lib/python3.8/site-packages/keras/utils/traceback_utils.py?line=68'>69</a>\u001b[0m   \u001b[39mdel\u001b[39;00m filtered_tb\n",
      "File \u001b[0;32m~/opt/anaconda3/lib/python3.8/site-packages/tensorflow/python/framework/constant_op.py:102\u001b[0m, in \u001b[0;36mconvert_to_eager_tensor\u001b[0;34m(value, ctx, dtype)\u001b[0m\n\u001b[1;32m    <a href='file:///Users/miarodgers/opt/anaconda3/lib/python3.8/site-packages/tensorflow/python/framework/constant_op.py?line=99'>100</a>\u001b[0m     dtype \u001b[39m=\u001b[39m dtypes\u001b[39m.\u001b[39mas_dtype(dtype)\u001b[39m.\u001b[39mas_datatype_enum\n\u001b[1;32m    <a href='file:///Users/miarodgers/opt/anaconda3/lib/python3.8/site-packages/tensorflow/python/framework/constant_op.py?line=100'>101</a>\u001b[0m ctx\u001b[39m.\u001b[39mensure_initialized()\n\u001b[0;32m--> <a href='file:///Users/miarodgers/opt/anaconda3/lib/python3.8/site-packages/tensorflow/python/framework/constant_op.py?line=101'>102</a>\u001b[0m \u001b[39mreturn\u001b[39;00m ops\u001b[39m.\u001b[39;49mEagerTensor(value, ctx\u001b[39m.\u001b[39;49mdevice_name, dtype)\n",
      "\u001b[0;31mValueError\u001b[0m: Failed to convert a NumPy array to a Tensor (Unsupported object type numpy.ndarray)."
     ]
    }
   ],
   "source": [
    "history = CNNmodel.fit(X_train, y_train, epochs=20,\n",
    "                       validation_data=(X_test, y_test))\n"
   ]
  },
  {
   "cell_type": "code",
   "execution_count": 95,
   "metadata": {},
   "outputs": [],
   "source": [
    "CNNmodel.compile(optimizer='adam',loss=tf.keras.losses.SparseCategoricalCrossentropy(from_logits=False),metrics=['accuracy'])"
   ]
  },
  {
   "cell_type": "markdown",
   "metadata": {},
   "source": [
    "Creating splits"
   ]
  },
  {
   "cell_type": "code",
   "execution_count": 89,
   "metadata": {},
   "outputs": [],
   "source": [
    "from sklearn.model_selection import train_test_split, GridSearchCV\n",
    "\n",
    "X_train, X_test, y_train, y_test = train_test_split(X, y, test_size=0.20)\n"
   ]
  },
  {
   "cell_type": "markdown",
   "metadata": {},
   "source": [
    "Normalizing the data"
   ]
  },
  {
   "cell_type": "code",
   "execution_count": 91,
   "metadata": {},
   "outputs": [],
   "source": [
    "# X_train = MinMaxScaler().fit_transform(X_train)\n",
    "# X_test = MinMaxScaler().fit_transform(X_test)"
   ]
  },
  {
   "cell_type": "code",
   "execution_count": 93,
   "metadata": {},
   "outputs": [],
   "source": [
    "import tensorflow as tf\n",
    "from tensorflow import keras as k\n",
    "from keras import models, layers\n",
    "from keras.models import Sequential\n",
    "from keras.layers import  Conv1D"
   ]
  },
  {
   "cell_type": "code",
   "execution_count": 14,
   "metadata": {},
   "outputs": [
    {
     "data": {
      "text/plain": [
       "(800, 675808)"
      ]
     },
     "execution_count": 14,
     "metadata": {},
     "output_type": "execute_result"
    }
   ],
   "source": [
    "X_train.shape"
   ]
  },
  {
   "cell_type": "code",
   "execution_count": 16,
   "metadata": {},
   "outputs": [],
   "source": [
    "def trainModel(model, epochs, optimizer, X_train, y_train, X_test, y_test):\n",
    "    model.compile(optimizer=optimizer,\n",
    "                  loss='sparse_categorical_crossentropy',\n",
    "                  metrics='accuracy')\n",
    "    return model.fit(X_train, y_train, validation_data=(X_test, y_test),\n",
    "                     epochs=epochs)\n"
   ]
  },
  {
   "cell_type": "code",
   "execution_count": 17,
   "metadata": {},
   "outputs": [],
   "source": [
    "def plotValidate(history):\n",
    "    print(\"Validation Accuracy: \" + max(history.history[\"val_accuracy\"]))\n",
    "    pd.DataFrame(history.history).plot(figsize=(12, 6))\n",
    "    plt.show\n"
   ]
  },
  {
   "cell_type": "code",
   "execution_count": 28,
   "metadata": {},
   "outputs": [],
   "source": [
    "model = Sequential()\n",
    "model.add(Conv1D(filters = 512, kernel_size = 3, activation='relu', input_shape=X.shape))\n"
   ]
  },
  {
   "cell_type": "code",
   "execution_count": 29,
   "metadata": {},
   "outputs": [],
   "source": [
    "model.add(Conv1D(filters=64, kernel_size=3, activation='relu'))\n",
    "model.add(k.layers.Dropout(0.5))\n",
    "model.add(k.layers.MaxPooling1D(pool_size=2))\n",
    "model.add(k.layers.Flatten())\n",
    "model.add(k.layers.Dense(100, activation='relu'))\n",
    "model.add(k.layers.Dense(10, activation='softmax'))\n",
    "model.compile(loss='categorical_crossentropy',\n",
    "              optimizer='adam', metrics=['accuracy'])\n"
   ]
  },
  {
   "cell_type": "code",
   "execution_count": 37,
   "metadata": {},
   "outputs": [
    {
     "ename": "ValueError",
     "evalue": "in user code:\n\n    File \"/Users/miarodgers/opt/anaconda3/lib/python3.8/site-packages/keras/engine/training.py\", line 1051, in train_function  *\n        return step_function(self, iterator)\n    File \"/Users/miarodgers/opt/anaconda3/lib/python3.8/site-packages/keras/engine/training.py\", line 1040, in step_function  **\n        outputs = model.distribute_strategy.run(run_step, args=(data,))\n    File \"/Users/miarodgers/opt/anaconda3/lib/python3.8/site-packages/keras/engine/training.py\", line 1030, in run_step  **\n        outputs = model.train_step(data)\n    File \"/Users/miarodgers/opt/anaconda3/lib/python3.8/site-packages/keras/engine/training.py\", line 889, in train_step\n        y_pred = self(x, training=True)\n    File \"/Users/miarodgers/opt/anaconda3/lib/python3.8/site-packages/keras/utils/traceback_utils.py\", line 67, in error_handler\n        raise e.with_traceback(filtered_tb) from None\n    File \"/Users/miarodgers/opt/anaconda3/lib/python3.8/site-packages/keras/engine/input_spec.py\", line 264, in assert_input_compatibility\n        raise ValueError(f'Input {input_index} of layer \"{layer_name}\" is '\n\n    ValueError: Input 0 of layer \"sequential_4\" is incompatible with the layer: expected shape=(None, 1000, 675808), found shape=(32, 675808)\n",
     "output_type": "error",
     "traceback": [
      "\u001b[0;31m---------------------------------------------------------------------------\u001b[0m",
      "\u001b[0;31mValueError\u001b[0m                                Traceback (most recent call last)",
      "\u001b[1;32m/Users/miarodgers/Documents/SU/CPSC-4310/code/music-genre-classification/MLP4/time_series.ipynb Cell 18'\u001b[0m in \u001b[0;36m<cell line: 3>\u001b[0;34m()\u001b[0m\n\u001b[1;32m      <a href='vscode-notebook-cell:/Users/miarodgers/Documents/SU/CPSC-4310/code/music-genre-classification/MLP4/time_series.ipynb#ch0000026?line=0'>1</a>\u001b[0m verbose, epochs, batch_size \u001b[39m=\u001b[39m \u001b[39m0\u001b[39m, \u001b[39m10\u001b[39m, \u001b[39m32\u001b[39m\n\u001b[1;32m      <a href='vscode-notebook-cell:/Users/miarodgers/Documents/SU/CPSC-4310/code/music-genre-classification/MLP4/time_series.ipynb#ch0000026?line=1'>2</a>\u001b[0m n_timesteps, n_features, n_outputs \u001b[39m=\u001b[39m X_train\u001b[39m.\u001b[39mshape[\u001b[39m1\u001b[39m], \u001b[39m1\u001b[39m, y_train\u001b[39m.\u001b[39mshape[\u001b[39m1\u001b[39m]\n\u001b[0;32m----> <a href='vscode-notebook-cell:/Users/miarodgers/Documents/SU/CPSC-4310/code/music-genre-classification/MLP4/time_series.ipynb#ch0000026?line=2'>3</a>\u001b[0m model\u001b[39m.\u001b[39;49mfit(X_train, y_train, epochs\u001b[39m=\u001b[39;49mepochs,\n\u001b[1;32m      <a href='vscode-notebook-cell:/Users/miarodgers/Documents/SU/CPSC-4310/code/music-genre-classification/MLP4/time_series.ipynb#ch0000026?line=3'>4</a>\u001b[0m           batch_size\u001b[39m=\u001b[39;49mbatch_size, verbose\u001b[39m=\u001b[39;49mverbose)\n\u001b[1;32m      <a href='vscode-notebook-cell:/Users/miarodgers/Documents/SU/CPSC-4310/code/music-genre-classification/MLP4/time_series.ipynb#ch0000026?line=4'>5</a>\u001b[0m \u001b[39m# fit network\u001b[39;00m\n\u001b[1;32m      <a href='vscode-notebook-cell:/Users/miarodgers/Documents/SU/CPSC-4310/code/music-genre-classification/MLP4/time_series.ipynb#ch0000026?line=5'>6</a>\u001b[0m model\u001b[39m.\u001b[39mfit(X_train, y_train, epochs\u001b[39m=\u001b[39mepochs,\n\u001b[1;32m      <a href='vscode-notebook-cell:/Users/miarodgers/Documents/SU/CPSC-4310/code/music-genre-classification/MLP4/time_series.ipynb#ch0000026?line=6'>7</a>\u001b[0m             batch_size\u001b[39m=\u001b[39mbatch_size, verbose\u001b[39m=\u001b[39mverbose)\n",
      "File \u001b[0;32m~/opt/anaconda3/lib/python3.8/site-packages/keras/utils/traceback_utils.py:67\u001b[0m, in \u001b[0;36mfilter_traceback.<locals>.error_handler\u001b[0;34m(*args, **kwargs)\u001b[0m\n\u001b[1;32m     <a href='file:///Users/miarodgers/opt/anaconda3/lib/python3.8/site-packages/keras/utils/traceback_utils.py?line=64'>65</a>\u001b[0m \u001b[39mexcept\u001b[39;00m \u001b[39mException\u001b[39;00m \u001b[39mas\u001b[39;00m e:  \u001b[39m# pylint: disable=broad-except\u001b[39;00m\n\u001b[1;32m     <a href='file:///Users/miarodgers/opt/anaconda3/lib/python3.8/site-packages/keras/utils/traceback_utils.py?line=65'>66</a>\u001b[0m   filtered_tb \u001b[39m=\u001b[39m _process_traceback_frames(e\u001b[39m.\u001b[39m__traceback__)\n\u001b[0;32m---> <a href='file:///Users/miarodgers/opt/anaconda3/lib/python3.8/site-packages/keras/utils/traceback_utils.py?line=66'>67</a>\u001b[0m   \u001b[39mraise\u001b[39;00m e\u001b[39m.\u001b[39mwith_traceback(filtered_tb) \u001b[39mfrom\u001b[39;00m \u001b[39mNone\u001b[39m\n\u001b[1;32m     <a href='file:///Users/miarodgers/opt/anaconda3/lib/python3.8/site-packages/keras/utils/traceback_utils.py?line=67'>68</a>\u001b[0m \u001b[39mfinally\u001b[39;00m:\n\u001b[1;32m     <a href='file:///Users/miarodgers/opt/anaconda3/lib/python3.8/site-packages/keras/utils/traceback_utils.py?line=68'>69</a>\u001b[0m   \u001b[39mdel\u001b[39;00m filtered_tb\n",
      "File \u001b[0;32m/var/folders/m_/g19vfcmx0ql8y44db9n_9j6r0000gn/T/__autograph_generated_filezuw4mejj.py:15\u001b[0m, in \u001b[0;36mouter_factory.<locals>.inner_factory.<locals>.tf__train_function\u001b[0;34m(iterator)\u001b[0m\n\u001b[1;32m     <a href='file:///var/folders/m_/g19vfcmx0ql8y44db9n_9j6r0000gn/T/__autograph_generated_filezuw4mejj.py?line=12'>13</a>\u001b[0m \u001b[39mtry\u001b[39;00m:\n\u001b[1;32m     <a href='file:///var/folders/m_/g19vfcmx0ql8y44db9n_9j6r0000gn/T/__autograph_generated_filezuw4mejj.py?line=13'>14</a>\u001b[0m     do_return \u001b[39m=\u001b[39m \u001b[39mTrue\u001b[39;00m\n\u001b[0;32m---> <a href='file:///var/folders/m_/g19vfcmx0ql8y44db9n_9j6r0000gn/T/__autograph_generated_filezuw4mejj.py?line=14'>15</a>\u001b[0m     retval_ \u001b[39m=\u001b[39m ag__\u001b[39m.\u001b[39mconverted_call(ag__\u001b[39m.\u001b[39mld(step_function), (ag__\u001b[39m.\u001b[39mld(\u001b[39mself\u001b[39m), ag__\u001b[39m.\u001b[39mld(iterator)), \u001b[39mNone\u001b[39;00m, fscope)\n\u001b[1;32m     <a href='file:///var/folders/m_/g19vfcmx0ql8y44db9n_9j6r0000gn/T/__autograph_generated_filezuw4mejj.py?line=15'>16</a>\u001b[0m \u001b[39mexcept\u001b[39;00m:\n\u001b[1;32m     <a href='file:///var/folders/m_/g19vfcmx0ql8y44db9n_9j6r0000gn/T/__autograph_generated_filezuw4mejj.py?line=16'>17</a>\u001b[0m     do_return \u001b[39m=\u001b[39m \u001b[39mFalse\u001b[39;00m\n",
      "\u001b[0;31mValueError\u001b[0m: in user code:\n\n    File \"/Users/miarodgers/opt/anaconda3/lib/python3.8/site-packages/keras/engine/training.py\", line 1051, in train_function  *\n        return step_function(self, iterator)\n    File \"/Users/miarodgers/opt/anaconda3/lib/python3.8/site-packages/keras/engine/training.py\", line 1040, in step_function  **\n        outputs = model.distribute_strategy.run(run_step, args=(data,))\n    File \"/Users/miarodgers/opt/anaconda3/lib/python3.8/site-packages/keras/engine/training.py\", line 1030, in run_step  **\n        outputs = model.train_step(data)\n    File \"/Users/miarodgers/opt/anaconda3/lib/python3.8/site-packages/keras/engine/training.py\", line 889, in train_step\n        y_pred = self(x, training=True)\n    File \"/Users/miarodgers/opt/anaconda3/lib/python3.8/site-packages/keras/utils/traceback_utils.py\", line 67, in error_handler\n        raise e.with_traceback(filtered_tb) from None\n    File \"/Users/miarodgers/opt/anaconda3/lib/python3.8/site-packages/keras/engine/input_spec.py\", line 264, in assert_input_compatibility\n        raise ValueError(f'Input {input_index} of layer \"{layer_name}\" is '\n\n    ValueError: Input 0 of layer \"sequential_4\" is incompatible with the layer: expected shape=(None, 1000, 675808), found shape=(32, 675808)\n"
     ]
    }
   ],
   "source": [
    "\n",
    "verbose, epochs, batch_size = 0, 10, 32\n",
    "n_timesteps, n_features, n_outputs = X_train.shape[1], 1, y_train.shape[1]\n",
    "# fit network\n",
    "model.fit(X_train, y_train, epochs=epochs,\n",
    "            batch_size=batch_size, verbose=verbose)\n",
    "# evaluate model\n",
    "_, accuracy = model.evaluate(X_test, y_test, batch_size=batch_size, verbose=0)\n",
    "print(accuracy)"
   ]
  },
  {
   "cell_type": "code",
   "execution_count": null,
   "metadata": {},
   "outputs": [],
   "source": []
  }
 ],
 "metadata": {
  "interpreter": {
   "hash": "4471b9651200f143f2610a150acdb66fa3a20288230649061a23803899bad073"
  },
  "kernelspec": {
   "display_name": "Python 3.8.5 ('base')",
   "language": "python",
   "name": "python3"
  },
  "language_info": {
   "codemirror_mode": {
    "name": "ipython",
    "version": 3
   },
   "file_extension": ".py",
   "mimetype": "text/x-python",
   "name": "python",
   "nbconvert_exporter": "python",
   "pygments_lexer": "ipython3",
   "version": "3.8.5"
  },
  "orig_nbformat": 4
 },
 "nbformat": 4,
 "nbformat_minor": 2
}
